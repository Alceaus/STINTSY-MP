{
  "nbformat": 4,
  "nbformat_minor": 0,
  "metadata": {
    "colab": {
      "provenance": [],
      "authorship_tag": "ABX9TyNq7kSOjB5Uw64Ag4FJaKxA",
      "include_colab_link": true
    },
    "kernelspec": {
      "name": "python3",
      "display_name": "Python 3"
    },
    "language_info": {
      "name": "python"
    }
  },
  "cells": [
    {
      "cell_type": "markdown",
      "metadata": {
        "id": "view-in-github",
        "colab_type": "text"
      },
      "source": [
        "<a href=\"https://colab.research.google.com/github/foodequalslife2/STINTSY-MP/blob/main/House_Prices_MP_S12.ipynb\" target=\"_parent\"><img src=\"https://colab.research.google.com/assets/colab-badge.svg\" alt=\"Open In Colab\"/></a>"
      ]
    },
    {
      "cell_type": "markdown",
      "source": [
        "\n",
        "```\n",
        "MENS S12\n",
        "\n",
        "Edric Jarvis Chua\n",
        "Nikolai Santiago\n",
        "MARASIGAN MARC DANIEL\n",
        "GAVAN SANDEON MIKHAIL NONATO\n",
        "\n",
        "```\n"
      ],
      "metadata": {
        "id": "AIOK70jZyy6t"
      }
    },
    {
      "cell_type": "code",
      "source": [],
      "metadata": {
        "id": "AIRChExszF-P"
      },
      "execution_count": null,
      "outputs": []
    },
    {
      "cell_type": "code",
      "source": [],
      "metadata": {
        "id": "U1K2Fk_By1W0"
      },
      "execution_count": null,
      "outputs": []
    }
  ]
}